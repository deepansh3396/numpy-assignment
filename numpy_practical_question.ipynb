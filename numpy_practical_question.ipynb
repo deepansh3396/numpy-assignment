{
  "nbformat": 4,
  "nbformat_minor": 0,
  "metadata": {
    "colab": {
      "provenance": []
    },
    "kernelspec": {
      "name": "python3",
      "display_name": "Python 3"
    },
    "language_info": {
      "name": "python"
    }
  },
  "cells": [
    {
      "cell_type": "code",
      "execution_count": 1,
      "metadata": {
        "colab": {
          "base_uri": "https://localhost:8080/"
        },
        "id": "5N0lTaK3nd4j",
        "outputId": "c03c20f5-ed02-4282-beb0-bbf76ea05e8d"
      },
      "outputs": [
        {
          "output_type": "stream",
          "name": "stdout",
          "text": [
            "Original Array:\n",
            " [[79 17 27]\n",
            " [82 22 70]\n",
            " [12 18  3]]\n",
            "Transposed Array:\n",
            " [[79 82 12]\n",
            " [17 22 18]\n",
            " [27 70  3]]\n"
          ]
        }
      ],
      "source": [
        "## Create a 3x3 NumPy array with random integers between 1 and 100. Then, interchange its rows and columns.\n",
        "\n",
        "import numpy as np\n",
        "\n",
        "# Create a 3x3 array with random integers between 1 and 100\n",
        "arr = np.random.randint(1, 101, size=(3, 3))\n",
        "\n",
        "print(\"Original Array:\\n\", arr)\n",
        "\n",
        "# Interchange rows and columns (transpose the array)\n",
        "transposed_arr = arr.T\n",
        "\n",
        "print(\"Transposed Array:\\n\", transposed_arr)\n"
      ]
    },
    {
      "cell_type": "code",
      "source": [
        "## Generate a 1D NumPy array with 10 elements. Reshape it into a 2x5 array, then into a 5x2 array.\n",
        "\n",
        "import numpy as np\n",
        "\n",
        "# Generate a 1D NumPy array with 10 elements\n",
        "array_1d = np.arange(10)\n",
        "\n",
        "print(\"Original 1D Array:\\n\", array_1d)\n",
        "\n",
        "# Reshape it into a 2x5 array\n",
        "array_2x5 = array_1d.reshape(2, 5)\n",
        "print(\"\\nReshaped to 2x5 Array:\\n\", array_2x5)\n",
        "\n",
        "# Reshape it into a 5x2 array\n",
        "array_5x2 = array_1d.reshape(5, 2)\n",
        "print(\"\\nReshaped to 5x2 Array:\\n\", array_5x2)\n"
      ],
      "metadata": {
        "colab": {
          "base_uri": "https://localhost:8080/"
        },
        "id": "IC4sUG1enz0W",
        "outputId": "cbef644d-5826-4dab-ee26-8acc1539b1f6"
      },
      "execution_count": 2,
      "outputs": [
        {
          "output_type": "stream",
          "name": "stdout",
          "text": [
            "Original 1D Array:\n",
            " [0 1 2 3 4 5 6 7 8 9]\n",
            "\n",
            "Reshaped to 2x5 Array:\n",
            " [[0 1 2 3 4]\n",
            " [5 6 7 8 9]]\n",
            "\n",
            "Reshaped to 5x2 Array:\n",
            " [[0 1]\n",
            " [2 3]\n",
            " [4 5]\n",
            " [6 7]\n",
            " [8 9]]\n"
          ]
        }
      ]
    },
    {
      "cell_type": "code",
      "source": [
        "## Create a 4x4 NumPy array with random float values. Add a border of zeros around it, resulting in a 6x6 array.\n",
        "\n",
        "import numpy as np\n",
        "\n",
        "# Create a 4x4 array with random float values\n",
        "array_4x4 = np.random.rand(4, 4)\n",
        "\n",
        "print(\"Original 4x4 Array:\\n\", array_4x4)\n",
        "\n",
        "# Add a border of zeros around the 4x4 array\n",
        "array_with_border = np.pad(array_4x4, pad_width=1, mode='constant', constant_values=0)\n",
        "\n",
        "print(\"\\n6x6 Array with Border of Zeros:\\n\", array_with_border)\n"
      ],
      "metadata": {
        "colab": {
          "base_uri": "https://localhost:8080/"
        },
        "id": "_4HsLOZeoGAB",
        "outputId": "86464e31-f92e-432e-9190-3a317fdf7ee9"
      },
      "execution_count": 3,
      "outputs": [
        {
          "output_type": "stream",
          "name": "stdout",
          "text": [
            "Original 4x4 Array:\n",
            " [[0.07439838 0.48746204 0.98417549 0.88766478]\n",
            " [0.92976261 0.42105449 0.35313558 0.50366707]\n",
            " [0.60950533 0.33381723 0.33502731 0.69460659]\n",
            " [0.81329092 0.08877457 0.6455371  0.57394004]]\n",
            "\n",
            "6x6 Array with Border of Zeros:\n",
            " [[0.         0.         0.         0.         0.         0.        ]\n",
            " [0.         0.07439838 0.48746204 0.98417549 0.88766478 0.        ]\n",
            " [0.         0.92976261 0.42105449 0.35313558 0.50366707 0.        ]\n",
            " [0.         0.60950533 0.33381723 0.33502731 0.69460659 0.        ]\n",
            " [0.         0.81329092 0.08877457 0.6455371  0.57394004 0.        ]\n",
            " [0.         0.         0.         0.         0.         0.        ]]\n"
          ]
        }
      ]
    },
    {
      "cell_type": "code",
      "source": [
        "## Using NumPy, create an array of integers from 10 to 60 with a step of 5.\n",
        "\n",
        "import numpy as np\n",
        "\n",
        "# Create an array of integers from 10 to 60 with a step of 5\n",
        "array_integers = np.arange(10, 61, 5)\n",
        "\n",
        "print(\"Array of integers from 10 to 60 with a step of 5:\\n\", array_integers)\n"
      ],
      "metadata": {
        "colab": {
          "base_uri": "https://localhost:8080/"
        },
        "id": "qm2iMwYooYp1",
        "outputId": "d80b31fd-e161-4210-993f-59fa8264b6c2"
      },
      "execution_count": 4,
      "outputs": [
        {
          "output_type": "stream",
          "name": "stdout",
          "text": [
            "Array of integers from 10 to 60 with a step of 5:\n",
            " [10 15 20 25 30 35 40 45 50 55 60]\n"
          ]
        }
      ]
    },
    {
      "cell_type": "code",
      "source": [
        "##. Create a NumPy array of strings ['python', 'numpy', 'pandas']. Apply different case transformations (uppercase, lowercase, title case, etc.) to each element.\n",
        "\n",
        "import numpy as np\n",
        "\n",
        "# Create a NumPy array of strings\n",
        "array_strings = np.array(['python', 'numpy', 'pandas'])\n",
        "\n",
        "# Apply different case transformations\n",
        "uppercase_array = np.char.upper(array_strings)\n",
        "lowercase_array = np.char.lower(array_strings)\n",
        "titlecase_array = np.char.title(array_strings)\n",
        "capitalize_array = np.char.capitalize(array_strings)\n",
        "\n",
        "# Display the results\n",
        "print(\"Original Array:\\n\", array_strings)\n",
        "print(\"\\nUppercase:\\n\", uppercase_array)\n",
        "print(\"\\nLowercase:\\n\", lowercase_array)\n",
        "print(\"\\nTitle Case:\\n\", titlecase_array)\n",
        "print(\"\\nCapitalized:\\n\", capitalize_array)\n"
      ],
      "metadata": {
        "colab": {
          "base_uri": "https://localhost:8080/"
        },
        "id": "c9fLeGVPoihW",
        "outputId": "014fe796-79eb-45b3-fb00-46696e1c5068"
      },
      "execution_count": 5,
      "outputs": [
        {
          "output_type": "stream",
          "name": "stdout",
          "text": [
            "Original Array:\n",
            " ['python' 'numpy' 'pandas']\n",
            "\n",
            "Uppercase:\n",
            " ['PYTHON' 'NUMPY' 'PANDAS']\n",
            "\n",
            "Lowercase:\n",
            " ['python' 'numpy' 'pandas']\n",
            "\n",
            "Title Case:\n",
            " ['Python' 'Numpy' 'Pandas']\n",
            "\n",
            "Capitalized:\n",
            " ['Python' 'Numpy' 'Pandas']\n"
          ]
        }
      ]
    },
    {
      "cell_type": "code",
      "source": [
        "## Generate a NumPy array of words. Insert a space between each character of every word in the array.\n",
        "\n",
        "import numpy as np\n",
        "\n",
        "# Create a NumPy array of words\n",
        "array_words = np.array(['hello', 'world', 'numpy', 'python'])\n",
        "\n",
        "# Insert a space between each character of every word\n",
        "spaced_array = np.char.join(' ', array_words)\n",
        "\n",
        "# Display the results\n",
        "print(\"Original Array:\\n\", array_words)\n",
        "print(\"\\nArray with spaces between characters:\\n\", spaced_array)\n"
      ],
      "metadata": {
        "colab": {
          "base_uri": "https://localhost:8080/"
        },
        "id": "_QUF4A0goy9N",
        "outputId": "55eadc03-ed4a-415a-a193-966a01fb4f3d"
      },
      "execution_count": 6,
      "outputs": [
        {
          "output_type": "stream",
          "name": "stdout",
          "text": [
            "Original Array:\n",
            " ['hello' 'world' 'numpy' 'python']\n",
            "\n",
            "Array with spaces between characters:\n",
            " ['h e l l o' 'w o r l d' 'n u m p y' 'p y t h o n']\n"
          ]
        }
      ]
    },
    {
      "cell_type": "code",
      "source": [
        "## Create two 2D NumPy arrays and perform element-wise addition, subtraction, multiplication, and division.\n",
        "\n",
        "import numpy as np\n",
        "\n",
        "# Create two 2D NumPy arrays\n",
        "array1 = np.array([[1, 2, 3],\n",
        "                    [4, 5, 6]])\n",
        "\n",
        "array2 = np.array([[10, 20, 30],\n",
        "                    [40, 50, 60]])\n",
        "\n",
        "# Perform element-wise addition\n",
        "addition = array1 + array2\n",
        "\n",
        "# Perform element-wise subtraction\n",
        "subtraction = array1 - array2\n",
        "\n",
        "# Perform element-wise multiplication\n",
        "multiplication = array1 * array2\n",
        "\n",
        "# Perform element-wise division\n",
        "division = array1 / array2\n",
        "\n",
        "# Display the results\n",
        "print(\"Array 1:\\n\", array1)\n",
        "print(\"\\nArray 2:\\n\", array2)\n",
        "\n",
        "print(\"\\nElement-wise Addition:\\n\", addition)\n",
        "print(\"\\nElement-wise Subtraction:\\n\", subtraction)\n",
        "print(\"\\nElement-wise Multiplication:\\n\", multiplication)\n",
        "print(\"\\nElement-wise Division:\\n\", division)\n"
      ],
      "metadata": {
        "colab": {
          "base_uri": "https://localhost:8080/"
        },
        "id": "GqRf079oo99c",
        "outputId": "0b55f694-eda5-49fd-dd5e-3d0e4c25498c"
      },
      "execution_count": 7,
      "outputs": [
        {
          "output_type": "stream",
          "name": "stdout",
          "text": [
            "Array 1:\n",
            " [[1 2 3]\n",
            " [4 5 6]]\n",
            "\n",
            "Array 2:\n",
            " [[10 20 30]\n",
            " [40 50 60]]\n",
            "\n",
            "Element-wise Addition:\n",
            " [[11 22 33]\n",
            " [44 55 66]]\n",
            "\n",
            "Element-wise Subtraction:\n",
            " [[ -9 -18 -27]\n",
            " [-36 -45 -54]]\n",
            "\n",
            "Element-wise Multiplication:\n",
            " [[ 10  40  90]\n",
            " [160 250 360]]\n",
            "\n",
            "Element-wise Division:\n",
            " [[0.1 0.1 0.1]\n",
            " [0.1 0.1 0.1]]\n"
          ]
        }
      ]
    },
    {
      "cell_type": "code",
      "source": [
        "##. Use NumPy to create a 5x5 identity matrix, then extract its diagonal elements.\n",
        "\n",
        "import numpy as np\n",
        "\n",
        "# Create a 5x5 identity matrix\n",
        "identity_matrix = np.eye(5)\n",
        "\n",
        "print(\"5x5 Identity Matrix:\\n\", identity_matrix)\n",
        "\n",
        "# Extract the diagonal elements\n",
        "diagonal_elements = np.diagonal(identity_matrix)\n",
        "\n",
        "print(\"\\nDiagonal Elements:\\n\", diagonal_elements)\n"
      ],
      "metadata": {
        "colab": {
          "base_uri": "https://localhost:8080/"
        },
        "id": "AQ2qfPzbpSVA",
        "outputId": "ea84848e-1b91-4d3e-983a-ffc4e5874e0c"
      },
      "execution_count": 8,
      "outputs": [
        {
          "output_type": "stream",
          "name": "stdout",
          "text": [
            "5x5 Identity Matrix:\n",
            " [[1. 0. 0. 0. 0.]\n",
            " [0. 1. 0. 0. 0.]\n",
            " [0. 0. 1. 0. 0.]\n",
            " [0. 0. 0. 1. 0.]\n",
            " [0. 0. 0. 0. 1.]]\n",
            "\n",
            "Diagonal Elements:\n",
            " [1. 1. 1. 1. 1.]\n"
          ]
        }
      ]
    },
    {
      "cell_type": "code",
      "source": [
        "## Generate a NumPy array of 100 random integers between 0 and 1000. Find and display all prime numbers in this array.\n",
        "\n",
        "import numpy as np\n",
        "\n",
        "# Generate a NumPy array of 100 random integers between 0 and 1000\n",
        "random_integers = np.random.randint(0, 1001, size=100)\n",
        "\n",
        "# Function to check for primality\n",
        "def is_prime(n):\n",
        "    if n <= 1:\n",
        "        return False\n",
        "    for i in range(2, int(n**0.5) + 1):\n",
        "        if n % i == 0:\n",
        "            return False\n",
        "    return True\n",
        "\n",
        "# Find all prime numbers in the array\n",
        "prime_numbers = [num for num in random_integers if is_prime(num)]\n",
        "\n",
        "# Display the results\n",
        "print(\"Random Integers Array:\\n\", random_integers)\n",
        "print(\"\\nPrime Numbers in the Array:\\n\", prime_numbers)\n"
      ],
      "metadata": {
        "colab": {
          "base_uri": "https://localhost:8080/"
        },
        "id": "ik5nWfvzpvJ6",
        "outputId": "0f46586d-e5fe-432a-eb0e-b6b38202a693"
      },
      "execution_count": 9,
      "outputs": [
        {
          "output_type": "stream",
          "name": "stdout",
          "text": [
            "Random Integers Array:\n",
            " [268 890 316 976 861 406  93 276 148 422 239 275 365 338 919 911 883 655\n",
            " 326 665 574 886  71 345 723 303 598 792 760 591 694 883 219 295  39 940\n",
            " 761 459 922 141 100 371 623 351 286 725 136 544 113 637 880 407 474  83\n",
            " 285 696  87 778 742 674 840 520 779 796 240 335 967  17 339 756 669 159\n",
            " 177 951 830 263 571 221 883 409 498 499 103 917 468 290 313  77 845 861\n",
            " 915 682 331 563 143 666 651 742 677 804]\n",
            "\n",
            "Prime Numbers in the Array:\n",
            " [239, 919, 911, 883, 71, 883, 761, 113, 83, 967, 17, 263, 571, 883, 409, 499, 103, 313, 331, 563, 677]\n"
          ]
        }
      ]
    },
    {
      "cell_type": "code",
      "source": [
        "##  Create a NumPy array representing daily temperatures for a month. Calculate and display the weekly averages.\n",
        "\n",
        "import numpy as np\n",
        "\n",
        "# Create a NumPy array representing daily temperatures for a month (30 days)\n",
        "# For this example, we'll use a fixed range of temperatures between 10 and 35 degrees Celsius\n",
        "daily_temperatures = np.array([20, 22, 25, 18, 30, 32, 28,\n",
        "                                25, 26, 24, 30, 31,\n",
        "                                15, 20, 22, 29, 27,\n",
        "                                35, 33, 31, 28,\n",
        "                                24, 22, 21, 19,\n",
        "                                17, 15, 10, 12,\n",
        "                                18, 21, 32, ])\n",
        "\n",
        "print(\"Daily Temperatures for the Month:\\n\", daily_temperatures)\n",
        "\n",
        "# Reshape the array into a 4-week format (assuming 30 days)\n",
        "# We can create 4 weeks of 7 days, and the last row will have only 2 days.\n",
        "weekly_temperatures = daily_temperatures.reshape(4, 8)\n",
        "\n",
        "# Calculate the weekly averages\n",
        "weekly_averages = np.mean(weekly_temperatures, axis=1)\n",
        "\n",
        "print(\"\\nWeekly Averages:\\n\", weekly_averages)\n",
        "\n",
        "\n"
      ],
      "metadata": {
        "colab": {
          "base_uri": "https://localhost:8080/"
        },
        "id": "NnZq311hqWer",
        "outputId": "a3a5d152-ebdb-4b8b-f0d4-80f143870372"
      },
      "execution_count": 16,
      "outputs": [
        {
          "output_type": "stream",
          "name": "stdout",
          "text": [
            "Daily Temperatures for the Month:\n",
            " [20 22 25 18 30 32 28 25 26 24 30 31 15 20 22 29 27 35 33 31 28 24 22 21\n",
            " 19 17 15 10 12 18 21 32]\n",
            "\n",
            "Weekly Averages:\n",
            " [25.    24.625 27.625 18.   ]\n"
          ]
        }
      ]
    },
    {
      "cell_type": "code",
      "source": [],
      "metadata": {
        "id": "BErKbalSqySQ"
      },
      "execution_count": null,
      "outputs": []
    }
  ]
}